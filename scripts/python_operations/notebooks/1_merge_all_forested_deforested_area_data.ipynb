{
 "cells": [
  {
   "cell_type": "markdown",
   "metadata": {},
   "source": [
    "This notebook merges all the district-aggregated data downloaded from Earth Engine "
   ]
  },
  {
   "cell_type": "code",
   "execution_count": 3,
   "metadata": {},
   "outputs": [],
   "source": [
    "import geopandas as gpd\n",
    "import matplotlib.pyplot as plt"
   ]
  },
  {
   "cell_type": "code",
   "execution_count": 4,
   "metadata": {},
   "outputs": [],
   "source": [
    "root = \"ADD ROOT FOLDER\"\n",
    "\n",
    "deforested_files = {\n",
    "    \"DW\": \"deforested_area_district_year_DW.geojson\",\n",
    "    \"ESA\": \"deforested_area_district_year_ESA.geojson\",\n",
    "    \"ESRI\": \"deforested_area_district_year_ESRI.geojson\",\n",
    "    \"FROM_GLC\": \"deforested_area_district_year_FROM_GLC.geojson\",\n",
    "    \"MFGFC\": \"deforested_area_district_year_MFGFC.geojson\",\n",
    "    \"PALSAR\": \"deforested_area_district_year_PALSAR.geojson\"\n",
    "}\n",
    "\n",
    "forested_files = {\n",
    "    \"DW\": \"forested_area_district_year_DW.geojson\",\n",
    "    \"ESA\": \"forested_area_district_year_ESA.geojson\",\n",
    "    \"ESRI\": \"forested_area_district_year_ESRI.geojson\",\n",
    "    \"FROM_GLC\": \"forested_area_district_year_FROM_GLC.geojson\",\n",
    "    \"MFGFC\": \"forested_area_district_year_MFGFC.geojson\",\n",
    "    \"PALSAR\": \"forested_area_district_year_PALSAR.geojson\"\n",
    "}"
   ]
  },
  {
   "cell_type": "code",
   "execution_count": 6,
   "metadata": {},
   "outputs": [],
   "source": [
    "dw_forested = gpd.read_file(root + forested_files[\"DW\"])\n",
    "palsar_forested = gpd.read_file(root + forested_files[\"PALSAR\"])\n",
    "esa_forested = gpd.read_file(root + forested_files[\"ESA\"])\n",
    "from_glc_forested = gpd.read_file(root + forested_files[\"FROM_GLC\"])  \n",
    "mfgfc_forested = gpd.read_file(root + forested_files[\"MFGFC\"]) \n",
    "esri_forested = gpd.read_file(root + forested_files[\"ESRI\"]) "
   ]
  },
  {
   "cell_type": "code",
   "execution_count": 12,
   "metadata": {},
   "outputs": [],
   "source": [
    "\n",
    "def get_sum(data):\n",
    "    data = data[data[\"year\"] == 2020]\n",
    "    print(data[\"sum\"].sum() / 1000000)"
   ]
  },
  {
   "cell_type": "code",
   "execution_count": 18,
   "metadata": {},
   "outputs": [
    {
     "name": "stdout",
     "output_type": "stream",
     "text": [
      "162083.36159819303\n"
     ]
    }
   ],
   "source": [
    "get_sum(esri_forested)"
   ]
  },
  {
   "cell_type": "code",
   "execution_count": 40,
   "metadata": {},
   "outputs": [],
   "source": [
    "dw_deforested = gpd.read_file(root + deforested_files[\"DW\"])\n",
    "palsar_deforested = gpd.read_file(root + deforested_files[\"PALSAR\"])\n",
    "esa_deforested = gpd.read_file(root + deforested_files[\"ESA\"])\n",
    "from_glc_deforested = gpd.read_file(root + deforested_files[\"FROM_GLC\"])\n",
    "mfgfc_deforested = gpd.read_file(root + deforested_files[\"MFGFC\"]) \n",
    "esri_deforested = gpd.read_file(root + deforested_files[\"ESRI\"]) "
   ]
  },
  {
   "cell_type": "code",
   "execution_count": 41,
   "metadata": {},
   "outputs": [],
   "source": [
    "def reformat_data(df, name):\n",
    "    \n",
    "    return df[[\"ADM2_PCODE\", \"sum\", \"year\", \"geometry\"]].rename(\n",
    "        columns ={\"ADM2_PCODE\": \"district\", \"sum\": name}\n",
    "    )"
   ]
  },
  {
   "cell_type": "code",
   "execution_count": 42,
   "metadata": {},
   "outputs": [],
   "source": [
    "dw_forested_reformatted = reformat_data(dw_forested, \"DW\")\n",
    "palsar_forested_reformatted = reformat_data(palsar_forested, \"PALSAR\")\n",
    "esa_forested_reformatted = reformat_data(esa_forested, \"ESA\")\n",
    "from_glc_forested_reformatted = reformat_data(from_glc_forested, \"FROM_GLC\")\n",
    "mfgfc_forested_reformatted = reformat_data(mfgfc_forested, \"MFGFC\")\n",
    "esri_forested_reformatted = reformat_data(esri_forested, \"ESRI\")\n",
    "\n",
    "# Reformat deforested data\n",
    "dw_deforested_reformatted = reformat_data(dw_deforested, \"DW\")\n",
    "palsar_deforested_reformatted = reformat_data(palsar_deforested, \"PALSAR\")\n",
    "esa_deforested_reformatted = reformat_data(esa_deforested, \"ESA\")\n",
    "from_glc_deforested_reformatted = reformat_data(from_glc_deforested, \"FROM_GLC\")\n",
    "mfgfc_deforested_reformatted = reformat_data(mfgfc_deforested, \"MFGFC\")\n",
    "esri_deforested_reformatted = reformat_data(esri_deforested, \"ESRI\")"
   ]
  },
  {
   "cell_type": "code",
   "execution_count": 43,
   "metadata": {},
   "outputs": [],
   "source": [
    "forested_merged = mfgfc_forested_reformatted.copy()  # Start with the first dataset\n",
    "\n",
    "# List of other datasets to merge\n",
    "other_forested = [palsar_forested_reformatted, esa_forested_reformatted, \n",
    "                  from_glc_forested_reformatted, dw_forested_reformatted, esri_forested_reformatted]\n",
    "\n",
    "# Merging other datasets into forested_merged\n",
    "for gdf in other_forested:\n",
    "    forested_merged = forested_merged.merge(gdf.drop(columns='geometry'), on=['district', 'year'], how='outer')"
   ]
  },
  {
   "cell_type": "code",
   "execution_count": 44,
   "metadata": {},
   "outputs": [],
   "source": [
    "deforested_merged = mfgfc_deforested_reformatted.copy()  # Start with the first dataset\n",
    "\n",
    "# List of other datasets to merge\n",
    "other_deforested = [palsar_deforested_reformatted, esa_deforested_reformatted, \n",
    "                  from_glc_deforested_reformatted, dw_deforested_reformatted, esri_deforested_reformatted]\n",
    "\n",
    "# Merging other datasets into forested_merged\n",
    "for gdf in other_deforested:\n",
    "    deforested_merged = deforested_merged.merge(gdf.drop(columns='geometry'), on=['district', 'year'], how='outer')"
   ]
  },
  {
   "cell_type": "code",
   "execution_count": 45,
   "metadata": {},
   "outputs": [],
   "source": [
    "forested_merged_gdf = gpd.GeoDataFrame(forested_merged, geometry='geometry')\n",
    "forested_merged_gdf.to_file(root+\"merged_forested_data.geojson\", driver='GeoJSON', index=False)"
   ]
  },
  {
   "cell_type": "code",
   "execution_count": 46,
   "metadata": {},
   "outputs": [],
   "source": [
    "deforested_merged_gdf = gpd.GeoDataFrame(deforested_merged, geometry='geometry')\n",
    "deforested_merged_gdf.to_file(root+\"merged_deforested_data.geojson\", driver='GeoJSON', index=False)"
   ]
  },
  {
   "cell_type": "code",
   "execution_count": null,
   "metadata": {},
   "outputs": [],
   "source": []
  }
 ],
 "metadata": {
  "kernelspec": {
   "display_name": "Python 3 (ipykernel)",
   "language": "python",
   "name": "python3"
  },
  "language_info": {
   "codemirror_mode": {
    "name": "ipython",
    "version": 3
   },
   "file_extension": ".py",
   "mimetype": "text/x-python",
   "name": "python",
   "nbconvert_exporter": "python",
   "pygments_lexer": "ipython3",
   "version": "3.8.19"
  }
 },
 "nbformat": 4,
 "nbformat_minor": 4
}
