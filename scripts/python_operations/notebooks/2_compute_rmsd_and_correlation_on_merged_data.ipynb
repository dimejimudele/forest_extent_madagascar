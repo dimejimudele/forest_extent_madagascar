{
 "cells": [
  {
   "cell_type": "markdown",
   "id": "3e762c80",
   "metadata": {},
   "source": [
    "In this notebook, RMSD and Correlation values are obtained"
   ]
  },
  {
   "cell_type": "code",
   "execution_count": null,
   "id": "b88a0d7a",
   "metadata": {},
   "outputs": [],
   "source": [
    "import pandas as pd\n",
    "import numpy as np\n",
    "import seaborn as sns\n",
    "\n",
    "import geopandas as gpd\n",
    "import matplotlib.pyplot as plt\n",
    "import proplot as pplt\n",
    "\n",
    "from scipy.stats import spearmanr"
   ]
  },
  {
   "cell_type": "code",
   "execution_count": null,
   "id": "ea9883a6",
   "metadata": {},
   "outputs": [],
   "source": [
    "root = \"/Users/dimeji/Documents/Research/2024/deforestation/final_project_version/data/tabular_data/\""
   ]
  },
  {
   "cell_type": "code",
   "execution_count": null,
   "id": "c8f28796",
   "metadata": {},
   "outputs": [],
   "source": [
    "forested_data = gpd.read_file(root+\"merged_forested_data.geojson\")\n",
    "deforested_data = gpd.read_file(root+\"merged_deforested_data.geojson\")"
   ]
  },
  {
   "cell_type": "code",
   "execution_count": null,
   "id": "8dd99478",
   "metadata": {},
   "outputs": [],
   "source": [
    "# If df is a GeoDataFrame and the columns are as described, focus on the data columns:\n",
    "data_columns = ['ESA', 'FROM_GLC', 'DW', 'ESRI', 'MFGFC', 'PALSAR']\n",
    "forested_data_select = forested_data[data_columns]\n",
    "deforested_data_select = deforested_data[data_columns]"
   ]
  },
  {
   "cell_type": "code",
   "execution_count": null,
   "id": "e223b44a",
   "metadata": {},
   "outputs": [],
   "source": [
    "# Calculate Spearman correlation matrix\n",
    "corr_matrix_deforested = deforested_data_select.corr(method='spearman')\n",
    "\n",
    "# Create a mask to zero out the upper triangle including the diagonal\n",
    "mask = np.triu(np.ones_like(corr_matrix_deforested, dtype=bool))\n",
    "\n",
    "# Apply the mask to the correlation matrix\n",
    "triangular_corr_matrix_deforested = corr_matrix_deforested.where(~mask).iloc[1:,:-1]"
   ]
  },
  {
   "cell_type": "code",
   "execution_count": null,
   "id": "780d5c8f",
   "metadata": {},
   "outputs": [],
   "source": [
    "plt.figure(figsize=(11, 9))  \n",
    "ax = sns.heatmap(triangular_corr_matrix_deforested, annot=True, fmt=\".2f\", cmap='warmcool', cbar=True,\n",
    "                      cbar_kws={'label': \"Spearman's Correlation Coefficient\"},\n",
    "                      square=True, linewidths=0.2,linecolor='black',\n",
    "                      annot_kws={'fontsize':25}, vmin=0, vmax=1)\n",
    "\n",
    "# Customize the plot\n",
    "plt.xticks(rotation=45, ha='right', fontsize=25)  # Customize tick labels as needed\n",
    "plt.yticks(rotation=45, ha='right', fontsize=25)  # Customize tick labels as needed \n",
    "#plt.yticks(fontsize=12)\n",
    "\n",
    "cbar = ax.collections[0].colorbar\n",
    "cbar.set_label(\"Spearman's Correlation Coefficient\", size=25)  # Set font size for the label\n",
    "cbar.ax.yaxis.set_tick_params(labelsize=25)\n",
    "plt.tight_layout()\n",
    "plt.savefig('deforested_data_correlation.png', dpi=400)\n",
    "plt.show()"
   ]
  },
  {
   "cell_type": "code",
   "execution_count": null,
   "id": "760f5a4c",
   "metadata": {},
   "outputs": [],
   "source": [
    "# Calculate Spearman correlation matrix\n",
    "corr_matrix_forested = forested_data_select.corr(method='spearman')\n",
    "\n",
    "# Apply the mask to the correlation matrix\n",
    "triangular_corr_matrix_forested = corr_matrix_forested.where(~mask).iloc[1:,:-1]"
   ]
  },
  {
   "cell_type": "code",
   "execution_count": null,
   "id": "0394406d",
   "metadata": {},
   "outputs": [],
   "source": [
    "plt.figure(figsize=(11, 9))  \n",
    "ax = sns.heatmap(triangular_corr_matrix_forested, annot=True, fmt=\".2f\", cmap='warmcool', cbar=True,\n",
    "                      cbar_kws={'label': \"Spearman's Correlation Coefficient\"},\n",
    "                      square=True, linewidths=0.2,linecolor='black',\n",
    "                      annot_kws={'fontsize':25}, vmin=0, vmax=1)\n",
    "\n",
    "# Customize the plot\n",
    "plt.xticks(rotation=45, ha='right', fontsize=25)  # Customize tick labels as needed\n",
    "plt.yticks(rotation=45, ha='right', fontsize=25)  # Customize tick labels as needed \n",
    "#plt.yticks(fontsize=12)\n",
    "\n",
    "cbar = ax.collections[0].colorbar\n",
    "cbar.set_label(\"Spearman's Correlation Coefficient\", size=25)  # Set font size for the label\n",
    "cbar.ax.yaxis.set_tick_params(labelsize=25)\n",
    "plt.tight_layout()\n",
    "plt.savefig('forested_data_correlation.png', dpi=400)\n",
    "\n",
    "plt.show()"
   ]
  },
  {
   "cell_type": "markdown",
   "id": "5d79df9a",
   "metadata": {},
   "source": [
    "# RMSD"
   ]
  },
  {
   "cell_type": "code",
   "execution_count": null,
   "id": "9cdc5f8b",
   "metadata": {},
   "outputs": [],
   "source": [
    "def calculate_rmse(series1, series2):\n",
    "    \n",
    "    \n",
    "    mask = ~np.isnan(series1) & ~np.isnan(series2)\n",
    "    return np.sqrt(np.mean(((series1[mask] / 1000000) - (series2[mask] / 1000000)) ** 2))"
   ]
  },
  {
   "cell_type": "code",
   "execution_count": null,
   "id": "fd73b211",
   "metadata": {},
   "outputs": [],
   "source": [
    "# Initialize an empty DataFrame for storing RMSE values\n",
    "variables = ['ESA', 'FROM_GLC', 'DW', 'ESRI', 'MFGFC', 'PALSAR']\n",
    "rmsd_matrix_forested = pd.DataFrame(index=variables, columns=variables)\n",
    "rmsd_matrix_deforested = pd.DataFrame(index=variables, columns=variables)"
   ]
  },
  {
   "cell_type": "code",
   "execution_count": null,
   "id": "cf14d6f0",
   "metadata": {},
   "outputs": [],
   "source": [
    "# Compute RMSE for every pair of variables\n",
    "for var1 in variables:\n",
    "    for var2 in variables:\n",
    "        rmsd_matrix_forested.loc[var1, var2] = calculate_rmse(\n",
    "                                            forested_data_select[var1], \n",
    "                                            forested_data_select[var2]\n",
    "                                            )\n",
    "rmsd_matrix_forested = rmsd_matrix_forested.astype(float)\n",
    "triangular_rmsd_matrix_forested  = rmsd_matrix_forested .where(~mask).iloc[1:,:-1]"
   ]
  },
  {
   "cell_type": "code",
   "execution_count": null,
   "id": "196e26c3",
   "metadata": {},
   "outputs": [],
   "source": [
    "# Compute RMSE for every pair of variables\n",
    "for var1 in variables:\n",
    "    for var2 in variables:\n",
    "        rmsd_matrix_deforested.loc[var1, var2] = calculate_rmse(\n",
    "                                            deforested_data_select[var1], \n",
    "                                            deforested_data_select[var2]\n",
    "                                            )\n",
    "rmsd_matrix_deforested = rmsd_matrix_deforested.astype(float)\n",
    "triangular_rmsd_matrix_deforested  = rmsd_matrix_deforested .where(~mask).iloc[1:,:-1]"
   ]
  },
  {
   "cell_type": "code",
   "execution_count": null,
   "id": "6fa7f3de",
   "metadata": {},
   "outputs": [],
   "source": [
    "plt.figure(figsize=(11, 9))  \n",
    "ax =sns.heatmap(\n",
    "        triangular_rmsd_matrix_forested, \n",
    "        annot=True, \n",
    "        fmt=\".2f\", \n",
    "        cmap='coolwarm',\n",
    "        cbar=True,\n",
    "        linewidths=0.2,\n",
    "        linecolor='black',\n",
    "        annot_kws={'fontsize':25},\n",
    "        cbar_kws={'label': 'RMSD in square kilometers (km²)'})\n",
    "\n",
    "# Customize the plot\n",
    "plt.xticks(rotation=45, ha='right', fontsize=25)  # Customize tick labels as needed\n",
    "plt.yticks(rotation=45, ha='right', fontsize=25)  # Customize tick labels as needed \n",
    "#plt.yticks(fontsize=12)\n",
    "\n",
    "cbar = ax.collections[0].colorbar\n",
    "cbar.set_label('RMSD in square kilometers (km²)', size=25)  # Set font size for the label\n",
    "cbar.ax.yaxis.set_tick_params(labelsize=25)\n",
    "plt.tight_layout()\n",
    "plt.savefig('forested_data_rmsd.png', dpi=400)\n",
    "\n",
    "plt.show()"
   ]
  },
  {
   "cell_type": "code",
   "execution_count": null,
   "id": "fbc3237e",
   "metadata": {},
   "outputs": [],
   "source": [
    "plt.figure(figsize=(11, 9))  \n",
    "ax =sns.heatmap(\n",
    "        triangular_rmsd_matrix_deforested, \n",
    "        annot=True, \n",
    "        fmt=\".2f\", \n",
    "        cmap='coolwarm',\n",
    "        cbar=True,\n",
    "        linewidths=0.2, \n",
    "        linecolor='black',\n",
    "        annot_kws={'fontsize':25},\n",
    "        cbar_kws={'label': 'RMSD in square kilometers (km²)'})\n",
    "\n",
    "# Customize the plot\n",
    "plt.xticks(rotation=45, ha='right', fontsize=25)  # Customize tick labels as needed\n",
    "plt.yticks(rotation=45, ha='right', fontsize=25)  # Customize tick labels as needed \n",
    "#plt.yticks(fontsize=12)\n",
    "\n",
    "cbar = ax.collections[0].colorbar\n",
    "cbar.set_label('RMSD in square kilometers (km²)', size=25)  # Set font size for the label\n",
    "cbar.ax.yaxis.set_tick_params(labelsize=25)\n",
    "plt.tight_layout()\n",
    "plt.savefig('deforested_data_rmsd.png', dpi=400)\n",
    "\n",
    "plt.show()"
   ]
  },
  {
   "cell_type": "code",
   "execution_count": null,
   "id": "6489355b",
   "metadata": {},
   "outputs": [],
   "source": [
    "deforested_data_select_km = deforested_data_select/1000000\n",
    "forested_data_select_km = forested_data_select/1000000"
   ]
  },
  {
   "cell_type": "code",
   "execution_count": null,
   "id": "8bbd77a4",
   "metadata": {},
   "outputs": [],
   "source": [
    "g = sns.pairplot(deforested_data_select_km, plot_kws={'s': 10, 'color': 'blue'}, diag_kws={'color': 'blue'})\n",
    "for ax in g.axes.flatten():\n",
    "    plt.setp(ax.get_xticklabels(), fontsize=12, fontname='Arial')\n",
    "    plt.setp(ax.get_yticklabels(), fontsize=12, fontname='Arial')\n",
    "    ax.set_xlabel(ax.get_xlabel(), fontsize=23, fontname='Arial')\n",
    "    ax.set_ylabel(ax.get_ylabel(), fontsize=23, fontname='Arial')\n",
    "# Adjust layout and save the figure\n",
    "plt.tight_layout()\n",
    "plt.savefig('deforested_data_corr_scatter.png', dpi=400)\n",
    "\n",
    "plt.show()"
   ]
  },
  {
   "cell_type": "code",
   "execution_count": null,
   "id": "b7c8316c",
   "metadata": {},
   "outputs": [],
   "source": [
    "g = sns.pairplot(forested_data_select_km, plot_kws={'s': 10, 'color': 'blue'}, diag_kws={'color': 'blue'})\n",
    "for ax in g.axes.flatten():\n",
    "    plt.setp(ax.get_xticklabels(), fontsize=12, fontname='Arial')\n",
    "    plt.setp(ax.get_yticklabels(), fontsize=12, fontname='Arial')\n",
    "    ax.set_xlabel(ax.get_xlabel(), fontsize=23, fontname='Arial')\n",
    "    ax.set_ylabel(ax.get_ylabel(), fontsize=23, fontname='Arial')\n",
    "# Adjust layout and save the figure\n",
    "plt.tight_layout()\n",
    "plt.savefig('forested_data_corr_scatter.png', dpi=400)\n",
    "\n",
    "plt.show()"
   ]
  },
  {
   "cell_type": "code",
   "execution_count": null,
   "id": "c5ba8156",
   "metadata": {},
   "outputs": [],
   "source": []
  }
 ],
 "metadata": {
  "kernelspec": {
   "display_name": "Python 3 (ipykernel)",
   "language": "python",
   "name": "python3"
  },
  "language_info": {
   "codemirror_mode": {
    "name": "ipython",
    "version": 3
   },
   "file_extension": ".py",
   "mimetype": "text/x-python",
   "name": "python",
   "nbconvert_exporter": "python",
   "pygments_lexer": "ipython3",
   "version": "3.8.19"
  }
 },
 "nbformat": 4,
 "nbformat_minor": 5
}
