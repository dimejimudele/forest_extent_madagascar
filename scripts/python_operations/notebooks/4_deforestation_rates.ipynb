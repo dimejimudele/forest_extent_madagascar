{
 "cells": [
  {
   "cell_type": "code",
   "execution_count": null,
   "id": "615ecfe5-9377-4a1a-9d81-025c9778dcdd",
   "metadata": {},
   "outputs": [],
   "source": [
    "import numpy as np\n",
    "import geopandas as gpd\n"
   ]
  },
  {
   "cell_type": "code",
   "execution_count": null,
   "id": "d724ba72-5e37-4642-bf07-6ddf6503de19",
   "metadata": {},
   "outputs": [],
   "source": [
    "root = \"/Users/dimeji/Documents/Research/2024/deforestation/final_project_version/data/tabular_data/\""
   ]
  },
  {
   "cell_type": "code",
   "execution_count": null,
   "id": "021c5493-3192-4670-91a8-e51e3c83e391",
   "metadata": {},
   "outputs": [],
   "source": [
    "data = gpd.read_file(root+\"forested_area_biome_year_MFCFC.geojson\")\n",
    "data = data.drop(columns=\"id\")\n",
    "data[\"sum\"] = data[\"sum\"] / 1000000"
   ]
  },
  {
   "cell_type": "code",
   "execution_count": null,
   "id": "f4c17f2b-f099-424d-ae33-d05777cd0982",
   "metadata": {},
   "outputs": [],
   "source": [
    "data.head()"
   ]
  },
  {
   "cell_type": "code",
   "execution_count": null,
   "id": "78f53e60-769c-42f6-ac15-2b9753dfcecf",
   "metadata": {},
   "outputs": [],
   "source": [
    "data.replace('Ecoregion Sud', 'spiny', inplace=True)\n",
    "data.replace('Ecoregion Est', 'moist', inplace=True)\n",
    "data.replace('Ecoregion Ouest', 'dry', inplace=True)"
   ]
  },
  {
   "cell_type": "code",
   "execution_count": null,
   "id": "519a76ac-7376-428a-ae56-18818bbb76b4",
   "metadata": {},
   "outputs": [],
   "source": [
    "data2000 = data[data[\"year\"] == 2000]"
   ]
  },
  {
   "cell_type": "code",
   "execution_count": null,
   "id": "a8b727d8-c1af-49c3-b4da-fc15bb84a197",
   "metadata": {},
   "outputs": [],
   "source": [
    "data2000"
   ]
  },
  {
   "cell_type": "code",
   "execution_count": null,
   "id": "1e2ccbb1-dc92-43ed-ae3d-b8e1c6acd101",
   "metadata": {},
   "outputs": [],
   "source": [
    "print(\"The total forested area in 2000 is: \", data2000[\"sum\"].sum())"
   ]
  },
  {
   "cell_type": "code",
   "execution_count": null,
   "id": "b575cb22-5ae0-4afc-8839-4ef5c8d34bb0",
   "metadata": {},
   "outputs": [],
   "source": [
    "data2023 = data[data[\"year\"] == 2023]"
   ]
  },
  {
   "cell_type": "code",
   "execution_count": null,
   "id": "d5a580f8-1cdb-4358-bc9a-e51e5af457ef",
   "metadata": {},
   "outputs": [],
   "source": [
    "data2023"
   ]
  },
  {
   "cell_type": "code",
   "execution_count": null,
   "id": "9bebe091-2b4a-4b64-8c01-ce8fd3e6205a",
   "metadata": {},
   "outputs": [],
   "source": [
    "print(\"The total forested area in 2023 is: \", data2023[\"sum\"].sum())"
   ]
  },
  {
   "cell_type": "code",
   "execution_count": null,
   "id": "3f9f5698-817f-4afc-a138-0a2437cce894",
   "metadata": {},
   "outputs": [],
   "source": [
    "def annual_deforestation_rate(F_t2, F_t1, t2=2023, t1=2000):\n",
    "    time_interval = t2 - t1\n",
    "    rate = 100 * (1 - (1 - (F_t2 - F_t1) / F_t1) ** (1 / time_interval))\n",
    "    return rate\n",
    "\n"
   ]
  },
  {
   "cell_type": "code",
   "execution_count": null,
   "id": "0dcf57f6-00dc-4611-98d1-a65d4015f691",
   "metadata": {},
   "outputs": [],
   "source": [
    "print(\"Total def rate madagascar: \", abs(annual_deforestation_rate(data2023[\"sum\"].sum(),  data2000[\"sum\"].sum())))"
   ]
  },
  {
   "cell_type": "code",
   "execution_count": null,
   "id": "f6036b82-4973-421a-9ff7-4eb2213e34c8",
   "metadata": {},
   "outputs": [],
   "source": [
    "print(\"Moist def rate madagascar: \", abs(annual_deforestation_rate(37418.70,  48555.82)))"
   ]
  },
  {
   "cell_type": "code",
   "execution_count": null,
   "id": "d28305be-637f-44cf-8c0c-98be795c28bb",
   "metadata": {},
   "outputs": [],
   "source": [
    "print(\"Dry def rate madagascar: \", abs(annual_deforestation_rate(21461.18,  29414.22)))"
   ]
  },
  {
   "cell_type": "code",
   "execution_count": null,
   "id": "f0ff459d-9f8a-4b47-b6b3-d0942e0053c7",
   "metadata": {},
   "outputs": [],
   "source": [
    "print(\"Spiny def rate madagascar: \", abs(annual_deforestation_rate(16496.81,  18586.38)))"
   ]
  },
  {
   "cell_type": "code",
   "execution_count": null,
   "id": "801708a6-ee3a-4e6d-a8f7-9269cf9f1cb3",
   "metadata": {},
   "outputs": [],
   "source": [
    "print(\"Mangroves def rate madagascar: \", abs(annual_deforestation_rate(1735.33,  1775.70)))"
   ]
  },
  {
   "cell_type": "code",
   "execution_count": null,
   "id": "139ee426-a5bd-41f2-91e1-f799448879c7",
   "metadata": {},
   "outputs": [],
   "source": [
    "(0.10 / 100) * 1775.70"
   ]
  },
  {
   "cell_type": "code",
   "execution_count": null,
   "id": "bb1bd628-3db9-47c0-864f-88cb1098d38d",
   "metadata": {},
   "outputs": [],
   "source": []
  }
 ],
 "metadata": {
  "kernelspec": {
   "display_name": "Python 3 (ipykernel)",
   "language": "python",
   "name": "python3"
  },
  "language_info": {
   "codemirror_mode": {
    "name": "ipython",
    "version": 3
   },
   "file_extension": ".py",
   "mimetype": "text/x-python",
   "name": "python",
   "nbconvert_exporter": "python",
   "pygments_lexer": "ipython3",
   "version": "3.8.19"
  }
 },
 "nbformat": 4,
 "nbformat_minor": 5
}
