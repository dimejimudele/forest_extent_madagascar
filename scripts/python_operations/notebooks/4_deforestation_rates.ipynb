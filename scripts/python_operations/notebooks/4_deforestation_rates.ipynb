{
 "cells": [
  {
   "cell_type": "code",
   "execution_count": 1,
   "id": "615ecfe5-9377-4a1a-9d81-025c9778dcdd",
   "metadata": {},
   "outputs": [],
   "source": [
    "import numpy as np\n",
    "import geopandas as gpd\n"
   ]
  },
  {
   "cell_type": "code",
   "execution_count": 2,
   "id": "d724ba72-5e37-4642-bf07-6ddf6503de19",
   "metadata": {},
   "outputs": [],
   "source": [
    "root = \"/Users/dimeji/Documents/Research/2024/deforestation/final_project_version/data/tabular_data/\""
   ]
  },
  {
   "cell_type": "code",
   "execution_count": 3,
   "id": "021c5493-3192-4670-91a8-e51e3c83e391",
   "metadata": {},
   "outputs": [],
   "source": [
    "data = gpd.read_file(root+\"forested_area_biome_year_MFCFC.geojson\")\n",
    "data = data.drop(columns=\"id\")\n",
    "data[\"sum\"] = data[\"sum\"] / 1000000"
   ]
  },
  {
   "cell_type": "code",
   "execution_count": 4,
   "id": "f4c17f2b-f099-424d-ae33-d05777cd0982",
   "metadata": {},
   "outputs": [
    {
     "data": {
      "text/html": [
       "<div>\n",
       "<style scoped>\n",
       "    .dataframe tbody tr th:only-of-type {\n",
       "        vertical-align: middle;\n",
       "    }\n",
       "\n",
       "    .dataframe tbody tr th {\n",
       "        vertical-align: top;\n",
       "    }\n",
       "\n",
       "    .dataframe thead th {\n",
       "        text-align: right;\n",
       "    }\n",
       "</style>\n",
       "<table border=\"1\" class=\"dataframe\">\n",
       "  <thead>\n",
       "    <tr style=\"text-align: right;\">\n",
       "      <th></th>\n",
       "      <th>nature</th>\n",
       "      <th>sum</th>\n",
       "      <th>year</th>\n",
       "      <th>geometry</th>\n",
       "    </tr>\n",
       "  </thead>\n",
       "  <tbody>\n",
       "    <tr>\n",
       "      <th>0</th>\n",
       "      <td>Ecoregion Sud</td>\n",
       "      <td>18586.376495</td>\n",
       "      <td>2000</td>\n",
       "      <td>GEOMETRYCOLLECTION (LINESTRING (43.30837 -21.9...</td>\n",
       "    </tr>\n",
       "    <tr>\n",
       "      <th>1</th>\n",
       "      <td>mangrove</td>\n",
       "      <td>1775.704396</td>\n",
       "      <td>2000</td>\n",
       "      <td>GEOMETRYCOLLECTION (LINESTRING (44.46624 -19.8...</td>\n",
       "    </tr>\n",
       "    <tr>\n",
       "      <th>2</th>\n",
       "      <td>Ecoregion Est</td>\n",
       "      <td>48555.822029</td>\n",
       "      <td>2000</td>\n",
       "      <td>GEOMETRYCOLLECTION (LINESTRING (49.88774 -13.0...</td>\n",
       "    </tr>\n",
       "    <tr>\n",
       "      <th>3</th>\n",
       "      <td>Ecoregion Ouest</td>\n",
       "      <td>29414.218322</td>\n",
       "      <td>2000</td>\n",
       "      <td>GEOMETRYCOLLECTION (POINT (44.44433 -19.86772)...</td>\n",
       "    </tr>\n",
       "    <tr>\n",
       "      <th>4</th>\n",
       "      <td>Ecoregion Sud</td>\n",
       "      <td>18570.195735</td>\n",
       "      <td>2001</td>\n",
       "      <td>GEOMETRYCOLLECTION (LINESTRING (43.30837 -21.9...</td>\n",
       "    </tr>\n",
       "  </tbody>\n",
       "</table>\n",
       "</div>"
      ],
      "text/plain": [
       "            nature           sum  year  \\\n",
       "0    Ecoregion Sud  18586.376495  2000   \n",
       "1         mangrove   1775.704396  2000   \n",
       "2    Ecoregion Est  48555.822029  2000   \n",
       "3  Ecoregion Ouest  29414.218322  2000   \n",
       "4    Ecoregion Sud  18570.195735  2001   \n",
       "\n",
       "                                            geometry  \n",
       "0  GEOMETRYCOLLECTION (LINESTRING (43.30837 -21.9...  \n",
       "1  GEOMETRYCOLLECTION (LINESTRING (44.46624 -19.8...  \n",
       "2  GEOMETRYCOLLECTION (LINESTRING (49.88774 -13.0...  \n",
       "3  GEOMETRYCOLLECTION (POINT (44.44433 -19.86772)...  \n",
       "4  GEOMETRYCOLLECTION (LINESTRING (43.30837 -21.9...  "
      ]
     },
     "execution_count": 4,
     "metadata": {},
     "output_type": "execute_result"
    }
   ],
   "source": [
    "data.head()"
   ]
  },
  {
   "cell_type": "code",
   "execution_count": 5,
   "id": "78f53e60-769c-42f6-ac15-2b9753dfcecf",
   "metadata": {},
   "outputs": [],
   "source": [
    "data.replace('Ecoregion Sud', 'spiny', inplace=True)\n",
    "data.replace('Ecoregion Est', 'moist', inplace=True)\n",
    "data.replace('Ecoregion Ouest', 'dry', inplace=True)"
   ]
  },
  {
   "cell_type": "code",
   "execution_count": 6,
   "id": "519a76ac-7376-428a-ae56-18818bbb76b4",
   "metadata": {},
   "outputs": [],
   "source": [
    "data2000 = data[data[\"year\"] == 2000]"
   ]
  },
  {
   "cell_type": "code",
   "execution_count": 7,
   "id": "a8b727d8-c1af-49c3-b4da-fc15bb84a197",
   "metadata": {},
   "outputs": [
    {
     "data": {
      "text/html": [
       "<div>\n",
       "<style scoped>\n",
       "    .dataframe tbody tr th:only-of-type {\n",
       "        vertical-align: middle;\n",
       "    }\n",
       "\n",
       "    .dataframe tbody tr th {\n",
       "        vertical-align: top;\n",
       "    }\n",
       "\n",
       "    .dataframe thead th {\n",
       "        text-align: right;\n",
       "    }\n",
       "</style>\n",
       "<table border=\"1\" class=\"dataframe\">\n",
       "  <thead>\n",
       "    <tr style=\"text-align: right;\">\n",
       "      <th></th>\n",
       "      <th>nature</th>\n",
       "      <th>sum</th>\n",
       "      <th>year</th>\n",
       "      <th>geometry</th>\n",
       "    </tr>\n",
       "  </thead>\n",
       "  <tbody>\n",
       "    <tr>\n",
       "      <th>0</th>\n",
       "      <td>spiny</td>\n",
       "      <td>18586.376495</td>\n",
       "      <td>2000</td>\n",
       "      <td>GEOMETRYCOLLECTION (LINESTRING (43.30837 -21.9...</td>\n",
       "    </tr>\n",
       "    <tr>\n",
       "      <th>1</th>\n",
       "      <td>mangrove</td>\n",
       "      <td>1775.704396</td>\n",
       "      <td>2000</td>\n",
       "      <td>GEOMETRYCOLLECTION (LINESTRING (44.46624 -19.8...</td>\n",
       "    </tr>\n",
       "    <tr>\n",
       "      <th>2</th>\n",
       "      <td>moist</td>\n",
       "      <td>48555.822029</td>\n",
       "      <td>2000</td>\n",
       "      <td>GEOMETRYCOLLECTION (LINESTRING (49.88774 -13.0...</td>\n",
       "    </tr>\n",
       "    <tr>\n",
       "      <th>3</th>\n",
       "      <td>dry</td>\n",
       "      <td>29414.218322</td>\n",
       "      <td>2000</td>\n",
       "      <td>GEOMETRYCOLLECTION (POINT (44.44433 -19.86772)...</td>\n",
       "    </tr>\n",
       "  </tbody>\n",
       "</table>\n",
       "</div>"
      ],
      "text/plain": [
       "     nature           sum  year  \\\n",
       "0     spiny  18586.376495  2000   \n",
       "1  mangrove   1775.704396  2000   \n",
       "2     moist  48555.822029  2000   \n",
       "3       dry  29414.218322  2000   \n",
       "\n",
       "                                            geometry  \n",
       "0  GEOMETRYCOLLECTION (LINESTRING (43.30837 -21.9...  \n",
       "1  GEOMETRYCOLLECTION (LINESTRING (44.46624 -19.8...  \n",
       "2  GEOMETRYCOLLECTION (LINESTRING (49.88774 -13.0...  \n",
       "3  GEOMETRYCOLLECTION (POINT (44.44433 -19.86772)...  "
      ]
     },
     "execution_count": 7,
     "metadata": {},
     "output_type": "execute_result"
    }
   ],
   "source": [
    "data2000"
   ]
  },
  {
   "cell_type": "code",
   "execution_count": 8,
   "id": "1e2ccbb1-dc92-43ed-ae3d-b8e1c6acd101",
   "metadata": {},
   "outputs": [
    {
     "name": "stdout",
     "output_type": "stream",
     "text": [
      "The total forested area in 2000 is:  98332.12124201235\n"
     ]
    }
   ],
   "source": [
    "print(\"The total forested area in 2000 is: \", data2000[\"sum\"].sum())"
   ]
  },
  {
   "cell_type": "code",
   "execution_count": 9,
   "id": "b575cb22-5ae0-4afc-8839-4ef5c8d34bb0",
   "metadata": {},
   "outputs": [],
   "source": [
    "data2023 = data[data[\"year\"] == 2023]"
   ]
  },
  {
   "cell_type": "code",
   "execution_count": 10,
   "id": "d5a580f8-1cdb-4358-bc9a-e51e5af457ef",
   "metadata": {},
   "outputs": [
    {
     "data": {
      "text/html": [
       "<div>\n",
       "<style scoped>\n",
       "    .dataframe tbody tr th:only-of-type {\n",
       "        vertical-align: middle;\n",
       "    }\n",
       "\n",
       "    .dataframe tbody tr th {\n",
       "        vertical-align: top;\n",
       "    }\n",
       "\n",
       "    .dataframe thead th {\n",
       "        text-align: right;\n",
       "    }\n",
       "</style>\n",
       "<table border=\"1\" class=\"dataframe\">\n",
       "  <thead>\n",
       "    <tr style=\"text-align: right;\">\n",
       "      <th></th>\n",
       "      <th>nature</th>\n",
       "      <th>sum</th>\n",
       "      <th>year</th>\n",
       "      <th>geometry</th>\n",
       "    </tr>\n",
       "  </thead>\n",
       "  <tbody>\n",
       "    <tr>\n",
       "      <th>92</th>\n",
       "      <td>spiny</td>\n",
       "      <td>16496.814621</td>\n",
       "      <td>2023</td>\n",
       "      <td>GEOMETRYCOLLECTION (LINESTRING (43.30837 -21.9...</td>\n",
       "    </tr>\n",
       "    <tr>\n",
       "      <th>93</th>\n",
       "      <td>mangrove</td>\n",
       "      <td>1735.330430</td>\n",
       "      <td>2023</td>\n",
       "      <td>GEOMETRYCOLLECTION (LINESTRING (44.46624 -19.8...</td>\n",
       "    </tr>\n",
       "    <tr>\n",
       "      <th>94</th>\n",
       "      <td>moist</td>\n",
       "      <td>37418.699004</td>\n",
       "      <td>2023</td>\n",
       "      <td>GEOMETRYCOLLECTION (LINESTRING (49.88774 -13.0...</td>\n",
       "    </tr>\n",
       "    <tr>\n",
       "      <th>95</th>\n",
       "      <td>dry</td>\n",
       "      <td>21461.179849</td>\n",
       "      <td>2023</td>\n",
       "      <td>GEOMETRYCOLLECTION (POINT (44.44433 -19.86772)...</td>\n",
       "    </tr>\n",
       "  </tbody>\n",
       "</table>\n",
       "</div>"
      ],
      "text/plain": [
       "      nature           sum  year  \\\n",
       "92     spiny  16496.814621  2023   \n",
       "93  mangrove   1735.330430  2023   \n",
       "94     moist  37418.699004  2023   \n",
       "95       dry  21461.179849  2023   \n",
       "\n",
       "                                             geometry  \n",
       "92  GEOMETRYCOLLECTION (LINESTRING (43.30837 -21.9...  \n",
       "93  GEOMETRYCOLLECTION (LINESTRING (44.46624 -19.8...  \n",
       "94  GEOMETRYCOLLECTION (LINESTRING (49.88774 -13.0...  \n",
       "95  GEOMETRYCOLLECTION (POINT (44.44433 -19.86772)...  "
      ]
     },
     "execution_count": 10,
     "metadata": {},
     "output_type": "execute_result"
    }
   ],
   "source": [
    "data2023"
   ]
  },
  {
   "cell_type": "code",
   "execution_count": 11,
   "id": "9bebe091-2b4a-4b64-8c01-ce8fd3e6205a",
   "metadata": {},
   "outputs": [
    {
     "name": "stdout",
     "output_type": "stream",
     "text": [
      "The total forested area in 2023 is:  77112.02390377462\n"
     ]
    }
   ],
   "source": [
    "print(\"The total forested area in 2023 is: \", data2023[\"sum\"].sum())"
   ]
  },
  {
   "cell_type": "code",
   "execution_count": 13,
   "id": "3f9f5698-817f-4afc-a138-0a2437cce894",
   "metadata": {},
   "outputs": [],
   "source": [
    "def annual_deforestation_rate(F_t2, F_t1, t2=2023, t1=2000):\n",
    "    time_interval = t2 - t1\n",
    "    rate = 100 * (1 - (1 - (F_t2 - F_t1) / F_t1) ** (1 / time_interval))\n",
    "    return rate\n",
    "\n"
   ]
  },
  {
   "cell_type": "code",
   "execution_count": 16,
   "id": "0dcf57f6-00dc-4611-98d1-a65d4015f691",
   "metadata": {},
   "outputs": [
    {
     "name": "stdout",
     "output_type": "stream",
     "text": [
      "Total def rate madagascar:  0.8531952713902502\n"
     ]
    }
   ],
   "source": [
    "print(\"Total def rate madagascar: \", abs(annual_deforestation_rate(data2023[\"sum\"].sum(),  data2000[\"sum\"].sum())))"
   ]
  },
  {
   "cell_type": "code",
   "execution_count": 18,
   "id": "f6036b82-4973-421a-9ff7-4eb2213e34c8",
   "metadata": {},
   "outputs": [
    {
     "name": "stdout",
     "output_type": "stream",
     "text": [
      "Moist def rate madagascar:  0.9018672811730299\n"
     ]
    }
   ],
   "source": [
    "print(\"Moist def rate madagascar: \", abs(annual_deforestation_rate(37418.70,  48555.82)))"
   ]
  },
  {
   "cell_type": "code",
   "execution_count": 19,
   "id": "d28305be-637f-44cf-8c0c-98be795c28bb",
   "metadata": {},
   "outputs": [
    {
     "name": "stdout",
     "output_type": "stream",
     "text": [
      "Dry def rate madagascar:  1.0459394456225235\n"
     ]
    }
   ],
   "source": [
    "print(\"Dry def rate madagascar: \", abs(annual_deforestation_rate(21461.18,  29414.22)))"
   ]
  },
  {
   "cell_type": "code",
   "execution_count": 20,
   "id": "f0ff459d-9f8a-4b47-b6b3-d0942e0053c7",
   "metadata": {},
   "outputs": [
    {
     "name": "stdout",
     "output_type": "stream",
     "text": [
      "Spiny def rate madagascar:  0.4643012256864365\n"
     ]
    }
   ],
   "source": [
    "print(\"Spiny def rate madagascar: \", abs(annual_deforestation_rate(16496.81,  18586.38)))"
   ]
  },
  {
   "cell_type": "code",
   "execution_count": 21,
   "id": "801708a6-ee3a-4e6d-a8f7-9269cf9f1cb3",
   "metadata": {},
   "outputs": [
    {
     "name": "stdout",
     "output_type": "stream",
     "text": [
      "Mangroves def rate madagascar:  0.09778740817021347\n"
     ]
    }
   ],
   "source": [
    "print(\"Mangroves def rate madagascar: \", abs(annual_deforestation_rate(1735.33,  1775.70)))"
   ]
  },
  {
   "cell_type": "code",
   "execution_count": 27,
   "id": "139ee426-a5bd-41f2-91e1-f799448879c7",
   "metadata": {},
   "outputs": [
    {
     "data": {
      "text/plain": [
       "1.7757"
      ]
     },
     "execution_count": 27,
     "metadata": {},
     "output_type": "execute_result"
    }
   ],
   "source": [
    "(0.10 / 100) * 1775.70"
   ]
  },
  {
   "cell_type": "code",
   "execution_count": null,
   "id": "bb1bd628-3db9-47c0-864f-88cb1098d38d",
   "metadata": {},
   "outputs": [],
   "source": []
  }
 ],
 "metadata": {
  "kernelspec": {
   "display_name": "Python 3 (ipykernel)",
   "language": "python",
   "name": "python3"
  },
  "language_info": {
   "codemirror_mode": {
    "name": "ipython",
    "version": 3
   },
   "file_extension": ".py",
   "mimetype": "text/x-python",
   "name": "python",
   "nbconvert_exporter": "python",
   "pygments_lexer": "ipython3",
   "version": "3.8.19"
  }
 },
 "nbformat": 4,
 "nbformat_minor": 5
}
